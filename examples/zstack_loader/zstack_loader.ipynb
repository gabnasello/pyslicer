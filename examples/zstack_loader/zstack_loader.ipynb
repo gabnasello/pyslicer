{
 "cells": [
  {
   "cell_type": "markdown",
   "id": "acb22adf-64a0-43ab-a7c4-88c8b1c7e4a8",
   "metadata": {},
   "source": [
    "<span STYLE=\"font-size:150%\"> \n",
    "    Z-Stack loader\n",
    "</span>\n",
    "\n",
    "Docker image: gnasello/slicer-env:2023-01-25 \\\n",
    "Latest update: 3 Feb 2023"
   ]
  },
  {
   "cell_type": "markdown",
   "id": "f7360ca1-9a2f-474e-a0ba-d453e0eedf67",
   "metadata": {},
   "source": [
    "Objective of the Notebook\n",
    "\n",
    "- load .czi z-stack images in Slicer "
   ]
  },
  {
   "cell_type": "markdown",
   "id": "ddf2719a-554b-4f75-83cc-a708b729e394",
   "metadata": {},
   "source": [
    "# Import libraries"
   ]
  },
  {
   "cell_type": "code",
   "execution_count": 1,
   "id": "4abe47d6-bf04-4741-a4cf-82b97544f450",
   "metadata": {},
   "outputs": [
    {
     "name": "stdout",
     "output_type": "stream",
     "text": [
      "Resource 'XMLSchema.xsd' is already loaded\n"
     ]
    }
   ],
   "source": [
    "from pathlib import Path\n",
    "import slicer\n",
    "from aicsimageio import AICSImage\n",
    "from pandas import DataFrame"
   ]
  },
  {
   "cell_type": "markdown",
   "id": "e5018d81-4b69-4ed4-aeba-827a91035a72",
   "metadata": {},
   "source": [
    "# User inputs"
   ]
  },
  {
   "cell_type": "code",
   "execution_count": 16,
   "id": "4f794c7e-d887-4a3e-8e31-c891769c0162",
   "metadata": {},
   "outputs": [],
   "source": [
    "# File path of the z-stack file\n",
    "zstack_file = 'GN_CHIR_d2_whole_2023-01-18.czi'\n",
    "\n",
    "# 3D Slicer takes individual channels as volume nodes\n",
    "channel = 'T PMT-T2' # brightfield\n",
    "\n",
    "color = 'blue'"
   ]
  },
  {
   "cell_type": "markdown",
   "id": "3683960b-fd17-467a-98c9-2cf15aa11099",
   "metadata": {},
   "source": [
    "# Get the AICSImage object"
   ]
  },
  {
   "cell_type": "code",
   "execution_count": 3,
   "id": "1a7cb73e-5f74-4bc4-8378-29e5f42aa65f",
   "metadata": {},
   "outputs": [],
   "source": [
    "img = AICSImage(zstack_file)  # selects the first scene found"
   ]
  },
  {
   "cell_type": "markdown",
   "id": "a7ac185a-e2c2-470d-91da-605de6bb8e6d",
   "metadata": {
    "tags": []
   },
   "source": [
    "## Print pixel sizes"
   ]
  },
  {
   "cell_type": "code",
   "execution_count": 4,
   "id": "f4555ce7-2e8a-4721-9a63-0a47a5082fa0",
   "metadata": {},
   "outputs": [],
   "source": [
    "x_res = img.physical_pixel_sizes.X  # returns the X dimension pixel size as found in the metadata\n",
    "y_res = img.physical_pixel_sizes.Y  # returns the X dimension pixel size as found in the metadata\n",
    "z_res = img.physical_pixel_sizes.Z  # returns the Z dimension pixel size as found in the metadata\n",
    "size = [x_res, y_res, z_res]"
   ]
  },
  {
   "cell_type": "code",
   "execution_count": 5,
   "id": "23055f0b-de30-4d2a-bca5-ad73017974a1",
   "metadata": {},
   "outputs": [],
   "source": [
    "# The lines below used to work but now they raise the error \n",
    "# \"cannot get a schema for XML data, provide a schema argument\"\n",
    "# Check The default XML parser will be changing from 'xmlschema' to 'lxml' in version 0.4.0.  \n",
    "# To silence this warning, please provide the `parser` argument, specifying either 'lxml' \n",
    "# (to opt into the new behavior), or'xmlschema' (to retain the old behavior).\n",
    "\n",
    "# metadata_dict = img.ome_metadata.dict()['images'][0]['pixels']\n",
    "# x_unit = metadata_dict['physical_size_x_unit'].value\n",
    "# y_unit = metadata_dict['physical_size_y_unit'].value\n",
    "# z_unit = metadata_dict['physical_size_z_unit'].value\n",
    "# unit = [x_unit, y_unit, z_unit]\n",
    "\n",
    "unit = ['µm', 'µm', 'µm']"
   ]
  },
  {
   "cell_type": "code",
   "execution_count": 6,
   "id": "ad377d55-d185-4196-b4fe-7d0ab0c44cb7",
   "metadata": {},
   "outputs": [],
   "source": [
    "data = {\n",
    "  \"pixel_size\": size,\n",
    "  \"unit\": unit\n",
    "}\n",
    "\n",
    "rownames = ['x', 'y', 'z']\n",
    "pixel_df = DataFrame(data, index = rownames)\n",
    "\n",
    "pixel_df_mm = pixel_df.copy()\n",
    "pixel_df_mm.pixel_size = pixel_df.pixel_size/1000\n",
    "pixel_df_mm.unit = ['mm', 'mm', 'mm'] "
   ]
  },
  {
   "cell_type": "code",
   "execution_count": 7,
   "id": "84e8704e-b0b8-4d31-99d3-3c120e46373f",
   "metadata": {},
   "outputs": [
    {
     "name": "stdout",
     "output_type": "stream",
     "text": [
      "\n",
      "--- Image Dimensions\n",
      "<Dimensions [T: 1, C: 5, Z: 89, Y: 5213, X: 985]>\n",
      "\n",
      "--- Image Channel Names\n",
      "['Ch1-T1', 'ChS2-T1', 'ChS1-T2', 'Ch2-T2', 'T PMT-T2']\n",
      "\n",
      "--- Image Pixel Physical Size Table\n",
      "   pixel_size unit\n",
      "x    0.001384   mm\n",
      "y    0.001384   mm\n",
      "z    0.001200   mm\n"
     ]
    }
   ],
   "source": [
    "print('\\n--- Image Dimensions')\n",
    "print(img.dims)  # returns a Dimensions object\n",
    "\n",
    "print('\\n--- Image Channel Names')\n",
    "print(img.channel_names)  # returns a list of string channel names found in the metadata\n",
    "\n",
    "print('\\n--- Image Pixel Physical Size Table')\n",
    "print(pixel_df_mm)"
   ]
  },
  {
   "cell_type": "markdown",
   "id": "e64ca1f9-978a-475d-a69a-fb3ed962941b",
   "metadata": {},
   "source": [
    "## Get image data as numpy array"
   ]
  },
  {
   "cell_type": "code",
   "execution_count": 8,
   "id": "abdc73b6-b37c-4331-9cab-ead4a079d868",
   "metadata": {},
   "outputs": [],
   "source": [
    "imgdata = img.get_image_data(\"CZYX\", T=0)  # returns 4D CZYX numpy array"
   ]
  },
  {
   "cell_type": "code",
   "execution_count": 9,
   "id": "69bda607-1bdc-44d3-a3d6-2f44638f2178",
   "metadata": {},
   "outputs": [],
   "source": [
    "# imgdata.shape"
   ]
  },
  {
   "cell_type": "code",
   "execution_count": 10,
   "id": "b3ab1cca-a9fb-4501-b239-3bfa0ead0e70",
   "metadata": {},
   "outputs": [],
   "source": [
    "channel_data = imgdata[img.channel_names.index(channel),:]"
   ]
  },
  {
   "cell_type": "markdown",
   "id": "881e236d-e33f-4884-bf8f-8afd79cc5eae",
   "metadata": {
    "tags": []
   },
   "source": [
    "# Load image as Volume Node"
   ]
  },
  {
   "cell_type": "markdown",
   "id": "9456ca2e-5f33-4d62-956b-335bb4dbc151",
   "metadata": {},
   "source": [
    "Create a master volume node with geometry based on the input images"
   ]
  },
  {
   "cell_type": "markdown",
   "id": "a0ca830f-bd34-4794-9d6e-b0066d743469",
   "metadata": {},
   "source": [
    "Instantiate and add a VolumeNode to the scene.\n",
    "To create a volume from a numpy array, you need to initialize a ```vtkMRMLScalarVolumeNode``` [link](https://discourse.slicer.org/t/creating-volume-from-numpy/658/4)"
   ]
  },
  {
   "cell_type": "code",
   "execution_count": 11,
   "id": "f73e0522-7e82-43d6-85d3-88fa1c1a5fa9",
   "metadata": {},
   "outputs": [],
   "source": [
    "masterVolumeNode = slicer.vtkMRMLScalarVolumeNode()"
   ]
  },
  {
   "cell_type": "code",
   "execution_count": 12,
   "id": "e28c4711-bb17-4ff9-b725-57c108df6edf",
   "metadata": {},
   "outputs": [],
   "source": [
    "masterVolumeNode.SetSpacing(pixel_df_mm.pixel_size.to_list())"
   ]
  },
  {
   "cell_type": "markdown",
   "id": "80c01603-7be9-4d10-8f96-7c52eb4aaa52",
   "metadata": {},
   "source": [
    "Importing images in czi file extension [link](https://discourse.slicer.org/t/importing-images-in-czi-file-extension/12291/1)"
   ]
  },
  {
   "cell_type": "code",
   "execution_count": 13,
   "id": "13ca5844-26ce-40af-9098-58516bb15acc",
   "metadata": {},
   "outputs": [],
   "source": [
    "slicer.util.updateVolumeFromArray(masterVolumeNode, channel_data)"
   ]
  },
  {
   "cell_type": "code",
   "execution_count": 14,
   "id": "51ee5597-34e5-44c0-b746-1f868cbfec65",
   "metadata": {},
   "outputs": [],
   "source": [
    "masterVolumeNode = slicer.mrmlScene.AddNode(masterVolumeNode)"
   ]
  },
  {
   "cell_type": "code",
   "execution_count": 15,
   "id": "36cf49fc-9659-498e-9a45-a4cf4de87c3b",
   "metadata": {},
   "outputs": [],
   "source": [
    "slicer.util.setSliceViewerLayers(background=masterVolumeNode, fit=True)\n",
    "masterVolumeNode.CreateDefaultDisplayNodes()"
   ]
  },
  {
   "cell_type": "code",
   "execution_count": 18,
   "id": "9cb16c79-b627-4dd2-ac21-06ff67507404",
   "metadata": {},
   "outputs": [],
   "source": [
    "clrs = ['yellow','red','green','blue']\n",
    "\n",
    "if color in clrs:\n",
    "    lookup_table = 'vtkMRMLColorTableNode' + color.capitalize()\n",
    "    displayNode = masterVolumeNode.GetDisplayNode()\n",
    "    displayNode.SetAndObserveColorNodeID(lookup_table)"
   ]
  },
  {
   "cell_type": "code",
   "execution_count": 20,
   "id": "942320b3-f091-4eb4-96de-82cc9fa4d7d5",
   "metadata": {},
   "outputs": [],
   "source": [
    "color='grey'\n",
    "\n",
    "lookup_table = 'vtkMRMLColorTableNode' + color.capitalize()\n",
    "displayNode = masterVolumeNode.GetDisplayNode()\n",
    "displayNode.SetAndObserveColorNodeID(lookup_table)"
   ]
  },
  {
   "cell_type": "code",
   "execution_count": null,
   "id": "5969444b-cdc1-4a82-9ffa-3ba499000ee3",
   "metadata": {},
   "outputs": [],
   "source": []
  }
 ],
 "metadata": {
  "kernelspec": {
   "display_name": "Slicer 5.0",
   "language": "python",
   "name": "slicer-5.0"
  },
  "language_info": {
   "file_extension": ".py",
   "mimetype": "text/x-python",
   "name": "python",
   "version": "3.9.10"
  }
 },
 "nbformat": 4,
 "nbformat_minor": 5
}
